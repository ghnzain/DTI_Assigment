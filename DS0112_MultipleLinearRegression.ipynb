{
  "nbformat": 4,
  "nbformat_minor": 0,
  "metadata": {
    "colab": {
      "name": "GhinaaZain_DS0112_MultipleLinearRegression.ipynb",
      "provenance": []
    },
    "kernelspec": {
      "name": "python3",
      "display_name": "Python 3"
    }
  },
  "cells": [
    {
      "cell_type": "markdown",
      "metadata": {
        "id": "yN_oGUYJ-_bX"
      },
      "source": [
        "## **Multiple Linear Regression**\n",
        "Pengertian dari multiple linear regresi adalah sebuah model prediksi yang melibatkan lebih dari satu variabel bebas (variabel independen). Hal tersebut juga yang membedakan multiple linier regresi dengan linear regresi.\n",
        "\n",
        "\n",
        "\n"
      ]
    },
    {
      "cell_type": "code",
      "metadata": {
        "id": "fIq3NMzKfgzY",
        "outputId": "f11aaff1-2c5a-4839-dd4a-3195f4f5a997",
        "colab": {
          "base_uri": "https://localhost:8080/",
          "height": 70
        }
      },
      "source": [
        "#import library pyhton untuk proses pengkodean dan visualisasi\n",
        "import pandas as pd\n",
        "import matplotlib.pyplot as plt\n",
        "from sklearn import linear_model\n",
        "import statsmodels.formula.api as smf\n",
        "import numpy as np\n",
        "import statsmodels.api as sm"
      ],
      "execution_count": 1,
      "outputs": [
        {
          "output_type": "stream",
          "text": [
            "/usr/local/lib/python3.6/dist-packages/statsmodels/tools/_testing.py:19: FutureWarning: pandas.util.testing is deprecated. Use the functions in the public API at pandas.testing instead.\n",
            "  import pandas.util.testing as tm\n"
          ],
          "name": "stderr"
        }
      ]
    },
    {
      "cell_type": "code",
      "metadata": {
        "id": "XFlc3hVHfkC5",
        "outputId": "3b327e4c-2e13-4238-8c5b-970b51c57f31",
        "colab": {
          "base_uri": "https://localhost:8080/",
          "height": 491
        }
      },
      "source": [
        "#load dan read dataset\n",
        "df_pie = pd.read_csv('https://raw.githubusercontent.com/rc-dbe/dti/main/data/pie-sales.csv', sep =\";\")\n",
        "df_pie"
      ],
      "execution_count": 2,
      "outputs": [
        {
          "output_type": "execute_result",
          "data": {
            "text/html": [
              "<div>\n",
              "<style scoped>\n",
              "    .dataframe tbody tr th:only-of-type {\n",
              "        vertical-align: middle;\n",
              "    }\n",
              "\n",
              "    .dataframe tbody tr th {\n",
              "        vertical-align: top;\n",
              "    }\n",
              "\n",
              "    .dataframe thead th {\n",
              "        text-align: right;\n",
              "    }\n",
              "</style>\n",
              "<table border=\"1\" class=\"dataframe\">\n",
              "  <thead>\n",
              "    <tr style=\"text-align: right;\">\n",
              "      <th></th>\n",
              "      <th>week</th>\n",
              "      <th>pie_sales</th>\n",
              "      <th>price</th>\n",
              "      <th>advertising</th>\n",
              "    </tr>\n",
              "  </thead>\n",
              "  <tbody>\n",
              "    <tr>\n",
              "      <th>0</th>\n",
              "      <td>1</td>\n",
              "      <td>350</td>\n",
              "      <td>5.5</td>\n",
              "      <td>3.3</td>\n",
              "    </tr>\n",
              "    <tr>\n",
              "      <th>1</th>\n",
              "      <td>2</td>\n",
              "      <td>460</td>\n",
              "      <td>7.5</td>\n",
              "      <td>3.3</td>\n",
              "    </tr>\n",
              "    <tr>\n",
              "      <th>2</th>\n",
              "      <td>3</td>\n",
              "      <td>350</td>\n",
              "      <td>8.0</td>\n",
              "      <td>3.0</td>\n",
              "    </tr>\n",
              "    <tr>\n",
              "      <th>3</th>\n",
              "      <td>4</td>\n",
              "      <td>430</td>\n",
              "      <td>8.0</td>\n",
              "      <td>4.5</td>\n",
              "    </tr>\n",
              "    <tr>\n",
              "      <th>4</th>\n",
              "      <td>5</td>\n",
              "      <td>350</td>\n",
              "      <td>6.8</td>\n",
              "      <td>3.0</td>\n",
              "    </tr>\n",
              "    <tr>\n",
              "      <th>5</th>\n",
              "      <td>6</td>\n",
              "      <td>380</td>\n",
              "      <td>7.5</td>\n",
              "      <td>4.0</td>\n",
              "    </tr>\n",
              "    <tr>\n",
              "      <th>6</th>\n",
              "      <td>7</td>\n",
              "      <td>430</td>\n",
              "      <td>4.5</td>\n",
              "      <td>3.0</td>\n",
              "    </tr>\n",
              "    <tr>\n",
              "      <th>7</th>\n",
              "      <td>8</td>\n",
              "      <td>470</td>\n",
              "      <td>6.4</td>\n",
              "      <td>3.7</td>\n",
              "    </tr>\n",
              "    <tr>\n",
              "      <th>8</th>\n",
              "      <td>9</td>\n",
              "      <td>450</td>\n",
              "      <td>7.0</td>\n",
              "      <td>3.5</td>\n",
              "    </tr>\n",
              "    <tr>\n",
              "      <th>9</th>\n",
              "      <td>10</td>\n",
              "      <td>490</td>\n",
              "      <td>5.0</td>\n",
              "      <td>4.0</td>\n",
              "    </tr>\n",
              "    <tr>\n",
              "      <th>10</th>\n",
              "      <td>11</td>\n",
              "      <td>340</td>\n",
              "      <td>7.2</td>\n",
              "      <td>3.5</td>\n",
              "    </tr>\n",
              "    <tr>\n",
              "      <th>11</th>\n",
              "      <td>12</td>\n",
              "      <td>300</td>\n",
              "      <td>7.9</td>\n",
              "      <td>3.2</td>\n",
              "    </tr>\n",
              "    <tr>\n",
              "      <th>12</th>\n",
              "      <td>13</td>\n",
              "      <td>440</td>\n",
              "      <td>5.9</td>\n",
              "      <td>4.0</td>\n",
              "    </tr>\n",
              "    <tr>\n",
              "      <th>13</th>\n",
              "      <td>14</td>\n",
              "      <td>450</td>\n",
              "      <td>5.0</td>\n",
              "      <td>3.5</td>\n",
              "    </tr>\n",
              "    <tr>\n",
              "      <th>14</th>\n",
              "      <td>15</td>\n",
              "      <td>300</td>\n",
              "      <td>7.0</td>\n",
              "      <td>2.7</td>\n",
              "    </tr>\n",
              "  </tbody>\n",
              "</table>\n",
              "</div>"
            ],
            "text/plain": [
              "    week  pie_sales  price  advertising\n",
              "0      1        350    5.5          3.3\n",
              "1      2        460    7.5          3.3\n",
              "2      3        350    8.0          3.0\n",
              "3      4        430    8.0          4.5\n",
              "4      5        350    6.8          3.0\n",
              "5      6        380    7.5          4.0\n",
              "6      7        430    4.5          3.0\n",
              "7      8        470    6.4          3.7\n",
              "8      9        450    7.0          3.5\n",
              "9     10        490    5.0          4.0\n",
              "10    11        340    7.2          3.5\n",
              "11    12        300    7.9          3.2\n",
              "12    13        440    5.9          4.0\n",
              "13    14        450    5.0          3.5\n",
              "14    15        300    7.0          2.7"
            ]
          },
          "metadata": {
            "tags": []
          },
          "execution_count": 2
        }
      ]
    },
    {
      "cell_type": "markdown",
      "metadata": {
        "id": "LAQD_aKxG6QH"
      },
      "source": [
        "### **Prepare Dataset**\n",
        "Membagi variabel yang ada dalam dataset menjadi variabel dependen(y) dan independen(x). Dalam kasus penjualan pie ini data penjualan pie dipengaruhi oleh harga dan promosi yang dilakukan."
      ]
    },
    {
      "cell_type": "code",
      "metadata": {
        "id": "of0ZjJGkGFom"
      },
      "source": [
        "#Pembagian variabel dalam dataset\n",
        "x = df_pie[['price', 'advertising']].astype(float)\n",
        "y = df_pie['pie_sales'].astype(float)"
      ],
      "execution_count": 3,
      "outputs": []
    },
    {
      "cell_type": "code",
      "metadata": {
        "id": "8nldf-fHfv5g",
        "outputId": "6dbef141-14a7-42d1-8a07-4dc3189f384c",
        "colab": {
          "base_uri": "https://localhost:8080/",
          "height": 84
        }
      },
      "source": [
        "#penerapan multiple linier regression \n",
        "model = smf.ols(formula='pie_sales ~ price + advertising', data=df_pie)\n",
        "results_formula = model.fit()\n",
        "results_formula.params"
      ],
      "execution_count": 4,
      "outputs": [
        {
          "output_type": "execute_result",
          "data": {
            "text/plain": [
              "Intercept      306.526193\n",
              "price          -24.975090\n",
              "advertising     74.130957\n",
              "dtype: float64"
            ]
          },
          "metadata": {
            "tags": []
          },
          "execution_count": 4
        }
      ]
    },
    {
      "cell_type": "code",
      "metadata": {
        "id": "y_3x_j2gp1p0"
      },
      "source": [
        "#persiapan untuk visualisasi data\n",
        "x_, y_ = np.meshgrid(np.linspace(df_pie.price.min(), df_pie.price.max(), 100),np.linspace(df_pie.advertising.min(), df_pie.max(), 100))\n",
        "onlyx = pd.DataFrame({'price': x_.ravel(), 'advertising': y_.ravel()})\n",
        "fittedy=results_formula.predict(exog=onlyx)"
      ],
      "execution_count": 5,
      "outputs": []
    },
    {
      "cell_type": "code",
      "metadata": {
        "id": "3Ju5tj3vgOxZ"
      },
      "source": [
        "#convert hasil dalam bentuk array\n",
        "fittedy = np.array(fittedy)"
      ],
      "execution_count": 6,
      "outputs": []
    },
    {
      "cell_type": "code",
      "metadata": {
        "id": "0gZttfKfuU42",
        "outputId": "1b79b651-be0b-4840-b66b-b688c0f81afc",
        "colab": {
          "base_uri": "https://localhost:8080/",
          "height": 248
        }
      },
      "source": [
        "#hasil visualisasi data dengan multiple linear variable beserta dengan prediksi penjualan\n",
        "fig = plt.figure()\n",
        "ax = fig.add_subplot(111, projection='3d')\n",
        "ax.scatter(df_pie['price'],df_pie['advertising'],df_pie['pie_sales'],c='blue', marker='o', alpha=0.5)\n",
        "ax.plot_surface(x_,y_,fittedy.reshape(x_.shape), color='None', alpha=0.3)\n",
        "ax.set_xlabel('price')\n",
        "ax.set_ylabel('advertising')\n",
        "ax.set_zlabel('pie_sales')\n",
        "plt.show()\n"
      ],
      "execution_count": 7,
      "outputs": [
        {
          "output_type": "display_data",
          "data": {
            "image/png": "[encoded data removed]",
            "text/plain": [
              "<Figure size 432x288 with 1 Axes>"
            ]
          },
          "metadata": {
            "tags": [],
            "needs_background": "light"
          }
        }
      ]
    },
    {
      "cell_type": "markdown",
      "metadata": {
        "id": "yaYlUGQPKLL-"
      },
      "source": [
        "### **Prediksi Penjualan** \n",
        "Prediksi penjualan yang dilakukan dengan melakukan penyetelan. Jadi dengan memasukkan angka untuk harga dan promosi yang mempengaruhi total penjualan, kemudian sistem akan memprediksi total penjualan yang akan didapatkan."
      ]
    },
    {
      "cell_type": "code",
      "metadata": {
        "id": "04F3xcvQ1PST",
        "outputId": "46a92322-9b0c-438a-e559-7f5edd4d0056",
        "colab": {
          "base_uri": "https://localhost:8080/",
          "height": 34
        }
      },
      "source": [
        "#import library untuk proses regresi\n",
        "model = linear_model.LinearRegression()\n",
        "model.fit(x, y)"
      ],
      "execution_count": 8,
      "outputs": [
        {
          "output_type": "execute_result",
          "data": {
            "text/plain": [
              "LinearRegression(copy_X=True, fit_intercept=True, n_jobs=None, normalize=False)"
            ]
          },
          "metadata": {
            "tags": []
          },
          "execution_count": 8
        }
      ]
    },
    {
      "cell_type": "code",
      "metadata": {
        "id": "IZh2ckQc4_dc",
        "outputId": "2317868d-bea7-463a-e702-e205e9ea4ce9",
        "colab": {
          "base_uri": "https://localhost:8080/",
          "height": 67
        }
      },
      "source": [
        "#perhitungan nilai coefficient secara otomatis menggunakan fungsi yang disediakan python\n",
        "coeff_df = pd.DataFrame(model.coef_, x.columns, columns=['Coefficient'])\n",
        "print(coeff_df)"
      ],
      "execution_count": 9,
      "outputs": [
        {
          "output_type": "stream",
          "text": [
            "             Coefficient\n",
            "price         -24.975090\n",
            "advertising    74.130957\n"
          ],
          "name": "stdout"
        }
      ]
    },
    {
      "cell_type": "code",
      "metadata": {
        "id": "e3w3fbcw5MOn",
        "outputId": "a8eeff75-dad3-4790-f098-96dc49b74812",
        "colab": {
          "base_uri": "https://localhost:8080/",
          "height": 67
        }
      },
      "source": [
        "#perhitungan nilai intercept secara otomatis menggunakan fungsi yang disediakan python\n",
        "inter_df = pd.DataFrame(model.intercept_, x.columns, columns=['Intercept'])\n",
        "print(inter_df)"
      ],
      "execution_count": 10,
      "outputs": [
        {
          "output_type": "stream",
          "text": [
            "              Intercept\n",
            "price        306.526193\n",
            "advertising  306.526193\n"
          ],
          "name": "stdout"
        }
      ]
    },
    {
      "cell_type": "code",
      "metadata": {
        "id": "cIcWxMdf5hQu",
        "outputId": "9856a433-7bf8-4fff-92de-8cf80b7b3faa",
        "colab": {
          "base_uri": "https://localhost:8080/",
          "height": 50
        }
      },
      "source": [
        "#prediksi penjualan pie\n",
        "price = 5.0\n",
        "advertising = 3.0\n",
        "print ('Predicted Pie Sales: \\n', model.predict([[price ,advertising]]))"
      ],
      "execution_count": 11,
      "outputs": [
        {
          "output_type": "stream",
          "text": [
            "Predicted Pie Sales: \n",
            " [404.04361816]\n"
          ],
          "name": "stdout"
        }
      ]
    },
    {
      "cell_type": "markdown",
      "metadata": {
        "id": "BjvBAoYqSopF"
      },
      "source": [
        "## **Tabel Informasi Statistik**\n",
        "Menampilkan tabel lengkap dengan informasi statistik yang dihasilkan oleh library statsmodel. \n",
        "\n",
        "Informasi ini dapat memberi informasi tambahan tentang model yang digunakan, seperti kesesuaian model, dan kesalahan standar.\n",
        "\n",
        "Koefisien yang dihasilkan dalam tabel ini sama dengan koefisien yang dihasilkan oleh sistem secara otomatis sebelumnya dibagian atas dengan fungsi sklearn. Hal ini bagus karena dalam pemodelan ini didapatkan hasil yang konsisten antara fungsi sklearn dan statsmodel.\n",
        "\n"
      ]
    },
    {
      "cell_type": "code",
      "metadata": {
        "id": "F1NSiL6y-aH4",
        "outputId": "9f1ed843-b4b5-4e0e-8cd4-9041fd7b32b3",
        "colab": {
          "base_uri": "https://localhost:8080/",
          "height": 487
        }
      },
      "source": [
        "#regresi dengan statsmodels \n",
        "x = sm.add_constant(x) \n",
        "model = sm.OLS(y, x).fit()\n",
        "predictions = model.predict(x) \n",
        " \n",
        "print_model = model.summary()\n",
        "print(print_model)"
      ],
      "execution_count": 12,
      "outputs": [
        {
          "output_type": "stream",
          "text": [
            "                            OLS Regression Results                            \n",
            "==============================================================================\n",
            "Dep. Variable:              pie_sales   R-squared:                       0.521\n",
            "Model:                            OLS   Adj. R-squared:                  0.442\n",
            "Method:                 Least Squares   F-statistic:                     6.539\n",
            "Date:                Fri, 23 Oct 2020   Prob (F-statistic):             0.0120\n",
            "Time:                        16:50:21   Log-Likelihood:                -77.510\n",
            "No. Observations:                  15   AIC:                             161.0\n",
            "Df Residuals:                      12   BIC:                             163.1\n",
            "Df Model:                           2                                         \n",
            "Covariance Type:            nonrobust                                         \n",
            "===============================================================================\n",
            "                  coef    std err          t      P>|t|      [0.025      0.975]\n",
            "-------------------------------------------------------------------------------\n",
            "const         306.5262    114.254      2.683      0.020      57.588     555.464\n",
            "price         -24.9751     10.832     -2.306      0.040     -48.576      -1.374\n",
            "advertising    74.1310     25.967      2.855      0.014      17.553     130.709\n",
            "==============================================================================\n",
            "Omnibus:                        1.505   Durbin-Watson:                   1.683\n",
            "Prob(Omnibus):                  0.471   Jarque-Bera (JB):                0.937\n",
            "Skew:                           0.595   Prob(JB):                        0.626\n",
            "Kurtosis:                       2.709   Cond. No.                         72.2\n",
            "==============================================================================\n",
            "\n",
            "Warnings:\n",
            "[1] Standard Errors assume that the covariance matrix of the errors is correctly specified.\n"
          ],
          "name": "stdout"
        },
        {
          "output_type": "stream",
          "text": [
            "/usr/local/lib/python3.6/dist-packages/scipy/stats/stats.py:1535: UserWarning: kurtosistest only valid for n>=20 ... continuing anyway, n=15\n",
            "  \"anyway, n=%i\" % int(n))\n"
          ],
          "name": "stderr"
        }
      ]
    },
    {
      "cell_type": "code",
      "metadata": {
        "id": "uHNN7qCbQDp4"
      },
      "source": [
        ""
      ],
      "execution_count": 12,
      "outputs": []
    }
  ]
}